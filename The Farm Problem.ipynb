{
 "cells": [
  {
   "cell_type": "markdown",
   "metadata": {},
   "source": [
    "# The Problem"
   ]
  },
  {
   "cell_type": "markdown",
   "metadata": {},
   "source": [
    "John owns a small 45-hectare farm and wants to plant corn and beans.\n",
    "\n",
    "Each hectare of corn generates a profit of US$200 \n",
    "\n",
    "and each hectare of beans returns US$300 in profit.\n",
    "\n",
    "The number of employees and fertilizers needed for each hectare are described in the table below:\n",
    "\n",
    "\n",
    "                      Corn       Beans    \n",
    "    Employees          3          2      \n",
    "    Fertilizers     2 Ton      4 Ton     \n",
    "    \n",
    "\n",
    "Considering that John has 100 employees and 120 tons of fertilizers, how can he maximize his profit?"
   ]
  },
  {
   "cell_type": "markdown",
   "metadata": {},
   "source": [
    "### Resolution:"
   ]
  },
  {
   "cell_type": "markdown",
   "metadata": {},
   "source": [
    "**Decision variables:**\n",
    "\n",
    "    x1 = hectares with corn\n",
    "\n",
    "    x2 = hectares with beans\n",
    "\n",
    "    Max profit (L): 200*x1 + 300*x2\n",
    "\n",
    "**Restrictions:**\n",
    "\n",
    "    (Area): x1 + x2 = 45\n",
    "\n",
    "    (Employees): 3*x1 + 4*x2 <= 100\n",
    "\n",
    "    (Fertilizers): 2*x1 + 4*x2 <= 120\n",
    "\n",
    "    x1, x2 >= 0"
   ]
  },
  {
   "cell_type": "code",
   "execution_count": 1,
   "metadata": {},
   "outputs": [],
   "source": [
    "#%pip install pulp\n",
    "import pulp"
   ]
  },
  {
   "cell_type": "code",
   "execution_count": 2,
   "metadata": {},
   "outputs": [
    {
     "name": "stderr",
     "output_type": "stream",
     "text": [
      "C:\\Users\\Jack\\anaconda3\\lib\\site-packages\\pulp\\pulp.py:1195: UserWarning: Spaces are not permitted in the name. Converted to '_'\n",
      "  warnings.warn(\"Spaces are not permitted in the name. Converted to '_'\")\n"
     ]
    },
    {
     "name": "stdout",
     "output_type": "stream",
     "text": [
      "Problema_do_Sitio:\n",
      "MAXIMIZE\n",
      "300*Feijão + 200*Milho + 0\n",
      "SUBJECT TO\n",
      "_C1: 2 Feijão + 3 Milho <= 100\n",
      "\n",
      "_C2: 4 Feijão + 2 Milho <= 120\n",
      "\n",
      "_C3: Feijão + Milho <= 45\n",
      "\n",
      "VARIABLES\n",
      "Feijão Continuous\n",
      "Milho Continuous\n",
      "\n",
      "A produção ótima deve ser Milho: 20\n",
      "A produção ótima deve ser Feijão: 20\n"
     ]
    }
   ],
   "source": [
    "# Definindo o problema como de maximização\n",
    "prob = pulp.LpProblem('Problema do Sitio', pulp.LpMaximize)\n",
    "\n",
    "\n",
    "# Definindo as variáveis de decisão\n",
    "x1 = pulp.LpVariable('Milho', lowBound=0, cat='Continuous')\n",
    "x2 = pulp.LpVariable('Feijão', lowBound=0, cat='Continuous')\n",
    "\n",
    "#Definindo a função Objetivo\n",
    "Lucro=200*x1+300*x2\n",
    "\n",
    "#Add a função-objetivo\n",
    "prob += Lucro\n",
    "\n",
    "#Restrição\n",
    "Empregados=3*x1+2*x2\n",
    "\n",
    "#Add restrição \n",
    "prob += (Empregados<=100)\n",
    "\n",
    "\n",
    "#Restrição\n",
    "Fertilizantes=2*x1+4*x2\n",
    "\n",
    "#Add restrição \n",
    "prob += (Fertilizantes<=120)\n",
    "\n",
    "\n",
    "#Restrição\n",
    "Area=x1+x2\n",
    "\n",
    "#Add restrição \n",
    "prob += (Area<=45)\n",
    "\n",
    "\n",
    "#escrevendo o problema de otimização linear\n",
    "print (prob)\n",
    "\n",
    "# Resolvendo o problema \n",
    "optimization_result = prob.solve()\n",
    "\n",
    "# Verificando se a solução ótima foi encontrada\n",
    "assert optimization_result == pulp.LpStatusOptimal\n",
    "\n",
    "#mostrando o resultado\n",
    "for var in (x1, x2):\n",
    "    print('A produção ótima deve ser {}: {:1.0f}'.format(var.name, var.value()))"
   ]
  },
  {
   "cell_type": "code",
   "execution_count": null,
   "metadata": {},
   "outputs": [],
   "source": []
  },
  {
   "cell_type": "code",
   "execution_count": null,
   "metadata": {},
   "outputs": [],
   "source": []
  },
  {
   "cell_type": "code",
   "execution_count": null,
   "metadata": {},
   "outputs": [],
   "source": []
  },
  {
   "cell_type": "code",
   "execution_count": null,
   "metadata": {},
   "outputs": [],
   "source": []
  }
 ],
 "metadata": {
  "kernelspec": {
   "display_name": "Python 3",
   "language": "python",
   "name": "python3"
  },
  "language_info": {
   "codemirror_mode": {
    "name": "ipython",
    "version": 3
   },
   "file_extension": ".py",
   "mimetype": "text/x-python",
   "name": "python",
   "nbconvert_exporter": "python",
   "pygments_lexer": "ipython3",
   "version": "3.7.1"
  }
 },
 "nbformat": 4,
 "nbformat_minor": 4
}
