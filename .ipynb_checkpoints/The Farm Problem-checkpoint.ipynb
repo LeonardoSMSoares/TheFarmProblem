{
 "cells": [
  {
   "cell_type": "markdown",
   "metadata": {},
   "source": [
    "# The Problem"
   ]
  },
  {
   "cell_type": "markdown",
   "metadata": {},
   "source": [
    "John owns a small 45-hectare farm and wants to plant corn and beans.\n",
    "\n",
    "Each hectare of corn generates a profit of US$200 \n",
    "\n",
    "and each hectare of beans returns US$300 in profit.\n",
    "\n",
    "The number of employees and fertilizers needed for each hectare are described in the table below:\n",
    "\n",
    "\n",
    "                      Corn       Beans    \n",
    "    Employees          3          2      \n",
    "    Fertilizers     2 Ton      4 Ton     \n",
    "    \n",
    "\n",
    "Considering that John has 100 employees and 120 tons of fertilizers, how can he maximize his profit?"
   ]
  },
  {
   "cell_type": "markdown",
   "metadata": {},
   "source": [
    "### Resolution:"
   ]
  },
  {
   "cell_type": "markdown",
   "metadata": {},
   "source": [
    "**Decision variables:**\n",
    "\n",
    "    x1 = hectares with corn\n",
    "\n",
    "    x2 = hectares with beans\n",
    "\n",
    "    Max profit (L): 200*x1 + 300*x2\n",
    "\n",
    "**Restrictions:**\n",
    "\n",
    "    (Area): x1 + x2 = 45\n",
    "\n",
    "    (Employees): 3*x1 + 4*x2 <= 100\n",
    "\n",
    "    (Fertilizers): 2*x1 + 4*x2 <= 120\n",
    "\n",
    "    x1, x2 >= 0"
   ]
  },
  {
   "cell_type": "code",
   "execution_count": null,
   "metadata": {},
   "outputs": [],
   "source": []
  },
  {
   "cell_type": "code",
   "execution_count": null,
   "metadata": {},
   "outputs": [],
   "source": []
  },
  {
   "cell_type": "code",
   "execution_count": null,
   "metadata": {},
   "outputs": [],
   "source": []
  },
  {
   "cell_type": "code",
   "execution_count": null,
   "metadata": {},
   "outputs": [],
   "source": []
  },
  {
   "cell_type": "code",
   "execution_count": null,
   "metadata": {},
   "outputs": [],
   "source": []
  },
  {
   "cell_type": "code",
   "execution_count": null,
   "metadata": {},
   "outputs": [],
   "source": []
  }
 ],
 "metadata": {
  "kernelspec": {
   "display_name": "Python 3",
   "language": "python",
   "name": "python3"
  },
  "language_info": {
   "codemirror_mode": {
    "name": "ipython",
    "version": 3
   },
   "file_extension": ".py",
   "mimetype": "text/x-python",
   "name": "python",
   "nbconvert_exporter": "python",
   "pygments_lexer": "ipython3",
   "version": "3.7.1"
  }
 },
 "nbformat": 4,
 "nbformat_minor": 4
}
